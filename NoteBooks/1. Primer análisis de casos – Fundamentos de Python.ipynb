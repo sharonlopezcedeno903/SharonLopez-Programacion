{
 "cells": [
  {
   "cell_type": "markdown",
   "metadata": {
    "id": "q7R3dARlFtDY"
   },
   "source": [
    "# Primer análisis de casos – Fundamentos de Python\n",
    "\n",
    "## Objetivo:\n",
    "En esta tarea, practicaremos los fundamentos básicos de Python resolviendo **cuatro ejercicios** de la lista planteada. Cada solución debe detallar **entradas**, **procesos** y **salidas** para comprender mejor cómo funciona cada problema.\n",
    "\n",
    "### Formato para cada ejercicio (seleccionemos 4 ejercicios):\n",
    "#### Ejercicio X:\n",
    "- **Descripción del problema:** Incluiremos el enunciado del ejercicio.\n",
    "- **Entradas:** Detallaremos los datos que debemos ingresar.\n",
    "- **Proceso:** Explicaremos cómo resolveremos el problema (algoritmo o fórmula).\n",
    "- **Salidas:** Describiremos el resultado que veremos en pantalla al final del proceso.\n",
    "\n",
    "#### Código del ejercicio:\n",
    "- Escribiremos la solución del ejercicio en una celda de código Python.\n",
    "- Agregaremos comentarios para explicar el código y hacerlo más comprensible.\n",
    "\n",
    "### Conclusión:\n",
    "- Al final, resumiremos lo que hemos aprendido resolviendo los ejercicios.\n",
    "- Reflexionaremos sobre cómo Python nos ayuda a solucionar problemas cotidianos.\n",
    "\n",
    "## Formato de entrega del informe en PDF:\n",
    "\n",
    "Debemos exportar nuestro notebook de Jupyter a formato PDF, cumpliendo con las siguientes pautas:\n",
    "\n",
    "### Portada:\n",
    "- Título: \"Primer análisis de casos – Fundamentos de Python\".\n",
    "- Nuestro nombre completo: Sharon López Cedeño\n",
    "- Fecha de entrega: 07/10/2025\n",
    "- Curso: Analisís de datos\n",
    "\n",
    "### Cuerpo del informe:\n",
    "- **Introducción:** Explicaremos brevemente los ejercicios que hemos seleccionado.\n",
    "- **Desarrollo de cada ejercicio:**\n",
    "  - Descripción del problema.\n",
    "  - Entradas, procesos y salidas detallados.\n",
    "  - Capturas de pantalla del código y del resultado de la ejecución.\n",
    "\n",
    "### Conclusión:\n",
    "- Reflexionaremos sobre el aprendizaje y las posibles dificultades que enfrentamos durante la resolución de los ejercicios.\n",
    "\n",
    "## Lista de ejercicios (Seleccionemos 4):\n",
    "\n",
    "1. Calcular el área de un triángulo a partir de la base y altura ingresadas.\n",
    "2. Convertir una cantidad de dólares a colones.\n",
    "3. Convertir grados centígrados a Fahrenheit.\n",
    "4. Mostrar cuántos segundos tiene un lustro.\n",
    "5. Calcular el tiempo que le toma a la luz viajar del sol a Marte.\n",
    "6. Calcular cuántas vueltas da una llanta en 1 km.\n",
    "7. Calcular la longitud de la sombra de un edificio de 20 metros.\n",
    "8. Comparar si la edad ingresada por dos usuarios es la misma.\n",
    "9. Calcular cuántos meses han transcurrido desde nuestra fecha de nacimiento.\n",
    "10. Calcular el promedio de un alumno en 5 materias.\n",
    "\n",
    "## Proceso de entrega:\n",
    "1. Resolveremos 4 de los ejercicios propuestos en un notebook de.\n",
    "2. Exportaremos el notebook a PDF siguiendo el formato establecido.\n",
    "3. Subiremos el PDF y el archivo de notebook (.ipynb) a la plataforma antes de la fecha límite.\n"
   ]
  },
  {
   "cell_type": "markdown",
   "metadata": {},
   "source": [
    "# Problema #1\n",
    "\n",
    "### Calcular el área de un triángulo a partir de la base y altura ingresada\n",
    "\n",
    "# Se muestran los tipos de datos de las variables que ingrese el usario\n",
    "base = float(input('Ingrese la base del triángulo: '))\n",
    "altura = float(input('Ingrese la altura del triángulo: '))\n",
    "\n",
    "# Se calcula el área del triángulo (b*h)/2.\n",
    "## Proceso:\n",
    "area = base * altura / 2\n",
    "\n",
    "# Se muestra el resultado del área del triángulo al usuario.\n",
    "## Salida:\n",
    "print('El area del triangulo es : ',area)\n"
   ]
  },
  {
   "cell_type": "code",
   "execution_count": null,
   "metadata": {
    "colab": {
     "base_uri": "https://localhost:8080/"
    },
    "executionInfo": {
     "elapsed": 10485,
     "status": "ok",
     "timestamp": 1712064323417,
     "user": {
      "displayName": "Andrés Mena Abarca",
      "userId": "07418092259593836578"
     },
     "user_tz": 360
    },
    "id": "n3rOsUESDeTs",
    "outputId": "1cd40ed7-f1d2-4b89-bca5-696418df0021"
   },
   "outputs": [],
   "source": [
    "# Código solución aqui\n",
    "base = float(input(\"Ingrese la base del triángulo: \"))\n",
    "altura = float(input(\"Ingrese la altura del triángulo: \"))\n",
    "area = (base * altura) / 2\n",
    "print(\"El área del triángulo es:\", area)"
   ]
  },
  {
   "cell_type": "markdown",
   "metadata": {},
   "source": [
    "# Problema #2\n",
    "\n",
    "### Calcular el promedio de un alumno en 5 materias\n",
    "\n",
    "##El usuario deberá de ingresar la nota del alumno por materia\n",
    "## Entrada:\n",
    "\n",
    "materia1 = float(input(\"Ingrese la nota de la materia 1: \"))\n",
    "materia2 = float(input(\"Ingrese la nota de la materia 2: \"))\n",
    "materia3 = float(input(\"Ingrese la nota de la materia 3: \"))\n",
    "materia4 = float(input(\"Ingrese la nota de la materia 4: \"))\n",
    "materia5 = float(input(\"Ingrese la nota de la materia 5: \"))\n",
    "\n",
    "## Proceso:\n",
    "##Promediar la nota de las 5 materias del alumno, es decir realizar las sumas de las 5 notas y dividirlo entre 5\n",
    "\n",
    "promedio = (materia1 + materia2 + materia3 + materia4 + materia5) / 5\n",
    "\n",
    "## Salida:\n",
    "## Se mostrará el resultado de la operación anteriormente indicada\n",
    "\n",
    "print(f\"El promedio del alumno de las 5 materias es: {promedio}\")"
   ]
  },
  {
   "cell_type": "code",
   "execution_count": null,
   "metadata": {},
   "outputs": [],
   "source": [
    "# Código solucción aqui\n",
    "materia1 = float(input(\"Ingrese la nota de la materia 1: \"))\n",
    "materia2 = float(input(\"Ingrese la nota de la materia 2: \"))\n",
    "materia3 = float(input(\"Ingrese la nota de la materia 3: \"))\n",
    "materia4 = float(input(\"Ingrese la nota de la materia 4: \"))\n",
    "materia5 = float(input(\"Ingrese la nota de la materia 5: \"))\n",
    "promedio = (materia1 + materia2 + materia3 + materia4 + materia5) / 5\n",
    "print(f\"El promedio del alumno de las 5 materias es: {promedio}\")"
   ]
  },
  {
   "cell_type": "markdown",
   "metadata": {},
   "source": [
    "# Problema #3\n",
    "\n",
    "## Comparar si la edad ingresada por dos usuarios es la misma.\n",
    "\n",
    "## Entrada:\n",
    "edad1 = int(input(\"Ingrese la edad del primer usuario: \"))\n",
    "edad2 = int(input(\"Ingrese la edad del segundo usuario: \"))\n",
    "## Proceso:\n",
    "##Realizar una condicionante si la edad es la misma colocar un mensaje \"Ambos usuarios poseen la misma edad\", pero si la edad es diferente colocar un mensaje \"Las edades de los usuarios no coinciden\"\n",
    "\n",
    "ifedad1 = edad2\n",
    "resultado(\"Ambos usuarios poseen la misma edad)\n",
    "else =\n",
    " resultado \"Las edades de los usuarios no coinciden)\n",
    "\n",
    "## Salida:\n",
    "##Mostrará el resultado dependiendo de los datos ingresados por los usuarios\n",
    "\n",
    "print(\"resultado\")"
   ]
  },
  {
   "cell_type": "code",
   "execution_count": null,
   "metadata": {},
   "outputs": [],
   "source": [
    "# Código solucción aqui\n",
    "edad1 = int(input(\"Ingrese la edad del primer usuario: \"))\n",
    "edad2 = int(input(\"Ingrese la edad del segundo usuario: \"))\n",
    "ifedad1 = edad2\n",
    "resultado = \"Ambos usuarios poseen la misma edad\"\n",
    "else =\n",
    "resultado = \"Las edades de los usuarios no coinciden\"\n",
    "print(resultado)\n"
   ]
  },
  {
   "cell_type": "markdown",
   "metadata": {},
   "source": [
    "# Problema #4\n",
    "\n",
    "### Calcular cuántos meses han transcurrido desde nuestra fecha de nacimiento.\n",
    "\n",
    "## Entrada:\n",
    "#Definir cuantos meses tiene un año\n",
    "#Solicitar al usuario el año de nacimiento\n",
    "#Solicitar al usuario que ingrese el año actual\n",
    "año = 12 \n",
    "añodenacimiento = input(\"Por favor ingrese su año de nacimiento: \")\n",
    "añoactual = input(\"Por favor ingrese el año actual \")\n",
    "\n",
    "## Proceso:\n",
    "#Restar la fecha actual entre la fecha de nacimiento y el resultado multiplicarlo por la variable de año\n",
    "mesestranscurridos = print(f\"Los meses transcurridos desde su fecha de nacimiento son: añoactual - añodenacimiento * año)\n",
    "\n",
    "## Salida:\n",
    "##Mostrará el resultado de la operación anteriormente mencionada\n",
    "print(\"mesestranscurridos\")"
   ]
  },
  {
   "cell_type": "code",
   "execution_count": null,
   "metadata": {},
   "outputs": [],
   "source": [
    "# Código solucción aqui\n",
    "año = 12\n",
    "añodenacimiento = input(\"Por favor ingrese su año de nacimiento: \")\n",
    "añoactual = input(\"Por favor ingrese el año actual \")\n",
    "mesestranscurridos = print(f\"Los meses transcurridos desde su año de nacimiento son: añoactual - añodenacimiento * año)\n",
    "print(\"mesestranscurridos\")                           "
   ]
  }
 ],
 "metadata": {
  "colab": {
   "provenance": []
  },
  "kernelspec": {
   "display_name": "Python 3",
   "name": "python3"
  },
  "language_info": {
   "codemirror_mode": {
    "name": "ipython",
    "version": 3
   },
   "file_extension": ".py",
   "mimetype": "text/x-python",
   "name": "python",
   "nbconvert_exporter": "python",
   "pygments_lexer": "ipython3",
   "version": "3.13.7"
  }
 },
 "nbformat": 4,
 "nbformat_minor": 0
}
